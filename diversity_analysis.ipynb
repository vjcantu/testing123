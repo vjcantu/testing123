{
 "cells": [
  {
   "cell_type": "code",
   "execution_count": 2,
   "id": "a092af57",
   "metadata": {},
   "outputs": [
    {
     "name": "stdout",
     "output_type": "stream",
     "text": [
      "q2cli version 2021.8.0\r\n",
      "Run `qiime info` for more version details.\r\n"
     ]
    }
   ],
   "source": [
    "!qiime --version"
   ]
  },
  {
   "cell_type": "code",
   "execution_count": 1,
   "id": "8de3d18a",
   "metadata": {},
   "outputs": [],
   "source": [
    "import pandas as pd\n",
    "import qiime2\n",
    "from qiime2 import Artifact\n",
    "import os\n",
    "from qiime2.plugins import diversity, feature_table, fragment_insertion, feature_classifier, metadata, emperor, deicode, gneiss, taxa"
   ]
  },
  {
   "cell_type": "code",
   "execution_count": 2,
   "id": "1d6c9fb2",
   "metadata": {},
   "outputs": [],
   "source": [
    "tbl_filt = Artifact.load('./data/preprocessed-feature-table-4k-only-apt.qza')\n",
    "tbl_unrare_filt = Artifact.load('./data/preprocessed-feature-table-unrare-only-apt.qza')\n",
    "meta = qiime2.Metadata.load('./data/13957_metadata.txt')\n",
    "tree = Artifact.load('./data/filt_tree.qza')\n",
    "tax = Artifact.load('./data/137124-reference-hit.taxonomy_gg.qza')"
   ]
  },
  {
   "cell_type": "markdown",
   "id": "4d726129",
   "metadata": {},
   "source": [
    "Before I make the PCoAs I need to filter out the samples not associated with a living space. I can filter out from 'indoor_space_classsifier' with dont_use values"
   ]
  },
  {
   "cell_type": "code",
   "execution_count": 40,
   "id": "dc07584b",
   "metadata": {},
   "outputs": [
    {
     "data": {
      "text/plain": [
       "13957.Apt.A.kitchen.cabinet.face.1               4000.0\n",
       "13957.Apt.A.bathroom.sink.handle.left            4000.0\n",
       "13957.Apt.A.bedroom.door.face.inside             4000.0\n",
       "13957.Apt.A.kitchen.cabinet.handle.7             4000.0\n",
       "13957.Apt.A.kitchen.fridge.floor                 4000.0\n",
       "                                                  ...  \n",
       "13957.Apt.C.toilet.bathroom.toilet.rim           4000.0\n",
       "13957.Apt.C.toilet.bathroom.toilet.seat          4000.0\n",
       "13957.Apt.C.toilet.bathroom.toilet.tank.cover    4000.0\n",
       "13957.Apt.C.toilet.bathroom.wall.far             4000.0\n",
       "13957.Apt.C.toilet.bathroom.wall.near            4000.0\n",
       "Length: 224, dtype: float64"
      ]
     },
     "execution_count": 40,
     "metadata": {},
     "output_type": "execute_result"
    }
   ],
   "source": [
    "tbl_filt.view(pd.DataFrame).sum(axis=1)"
   ]
  },
  {
   "cell_type": "code",
   "execution_count": 3,
   "id": "e65f4cbc",
   "metadata": {},
   "outputs": [],
   "source": [
    "# Note I later went back and did this in the diversity_analysis_preprocessing notebook\n",
    "# they are saved as preprocessed-feature-table-4k-only-apt.qza and \n",
    "# preprocessed-feature-table-unrare-only-apt.qza. the tbl_filt and tbl_unrare_filt should be\n",
    "# exactly the same as just loading those\n",
    "#tbl_filt = feature_table.actions.filter_samples(table = tbl, \n",
    "#                                     metadata = meta,\n",
    "#                                     where = \"[indoor_space_classifier]!='dont_use'\")\n",
    "\n",
    "#tbl_unrare_filt = feature_table.actions.filter_samples(table = tbl_unrare, \n",
    "#                                     metadata = meta,\n",
    "#                                     where = \"[indoor_space_classifier]!='dont_use'\")"
   ]
  },
  {
   "cell_type": "markdown",
   "id": "ba715286",
   "metadata": {},
   "source": [
    "## Beta diversity"
   ]
  },
  {
   "cell_type": "code",
   "execution_count": 5,
   "id": "096548c0",
   "metadata": {},
   "outputs": [],
   "source": [
    "# making the biodiversity distance matrices\n",
    "!mkdir -p ./analysis/bdiv\n",
    "!mkdir -p ./analysis/bdiv/distances\n",
    "!mkdir -p ./analysis/bdiv/pcoas\n",
    "!mkdir -p ./analysis/bdiv/emperor\n",
    "!mkdir -p ./analysis/bdiv/viz"
   ]
  },
  {
   "cell_type": "code",
   "execution_count": 15,
   "id": "f0cd4346",
   "metadata": {},
   "outputs": [],
   "source": [
    "# initializing the list\n",
    "bdiv_dms = {}"
   ]
  },
  {
   "cell_type": "code",
   "execution_count": 16,
   "id": "83dfad7f",
   "metadata": {},
   "outputs": [
    {
     "name": "stderr",
     "output_type": "stream",
     "text": [
      "/Users/vcantu/miniconda3/envs/qiime2-2021.8/lib/python3.8/site-packages/sklearn/metrics/pairwise.py:1776: DataConversionWarning: Data was converted to boolean for metric jaccard\n",
      "  warnings.warn(msg, DataConversionWarning)\n"
     ]
    }
   ],
   "source": [
    "for metric in ('jaccard', 'braycurtis'):\n",
    "    bdiv_dms[metric] = diversity.pipelines.beta(\n",
    "        table= tbl_filt, metric=metric).distance_matrix\n",
    "    \n",
    "for metric in ('unweighted_unifrac', 'weighted_unifrac'):\n",
    "    bdiv_dms[metric] = diversity.pipelines.beta_phylogenetic(\n",
    "        table=tbl_filt, phylogeny=tree, metric=metric).distance_matrix"
   ]
  },
  {
   "cell_type": "code",
   "execution_count": 17,
   "id": "9905b627",
   "metadata": {},
   "outputs": [
    {
     "name": "stderr",
     "output_type": "stream",
     "text": [
      "/Users/vcantu/miniconda3/envs/qiime2-2021.8/lib/python3.8/site-packages/skbio/stats/ordination/_principal_coordinate_analysis.py:143: RuntimeWarning: The result contains negative eigenvalues. Please compare their magnitude with the magnitude of some of the largest positive eigenvalues. If the negative ones are smaller, it's probably safe to ignore them, but if they are large in magnitude, the results won't be useful. See the Notes section for more details. The smallest eigenvalue is -0.22947217175179552 and the largest is 16.013140607455476.\n",
      "  warn(\n",
      "/Users/vcantu/miniconda3/envs/qiime2-2021.8/lib/python3.8/site-packages/skbio/stats/ordination/_principal_coordinate_analysis.py:143: RuntimeWarning: The result contains negative eigenvalues. Please compare their magnitude with the magnitude of some of the largest positive eigenvalues. If the negative ones are smaller, it's probably safe to ignore them, but if they are large in magnitude, the results won't be useful. See the Notes section for more details. The smallest eigenvalue is -0.01009090463822706 and the largest is 5.140792755639485.\n",
      "  warn(\n",
      "/Users/vcantu/miniconda3/envs/qiime2-2021.8/lib/python3.8/site-packages/skbio/stats/ordination/_principal_coordinate_analysis.py:143: RuntimeWarning: The result contains negative eigenvalues. Please compare their magnitude with the magnitude of some of the largest positive eigenvalues. If the negative ones are smaller, it's probably safe to ignore them, but if they are large in magnitude, the results won't be useful. See the Notes section for more details. The smallest eigenvalue is -0.2773576841008933 and the largest is 6.647466442974807.\n",
      "  warn(\n"
     ]
    }
   ],
   "source": [
    "for metric in bdiv_dms:\n",
    "    bdiv_dms[metric].save('./analysis/bdiv/distances/%s.qza' % metric)\n",
    "\n",
    "pcoas = {k: diversity.methods.pcoa(v).pcoa for k, v in bdiv_dms.items()}"
   ]
  },
  {
   "cell_type": "code",
   "execution_count": 18,
   "id": "1ec66939",
   "metadata": {},
   "outputs": [],
   "source": [
    "for metric in pcoas:\n",
    "    pcoas[metric].save('./analysis/bdiv/pcoas/%s.pcoa.qza' % metric)"
   ]
  },
  {
   "cell_type": "code",
   "execution_count": 19,
   "id": "73cd15c7",
   "metadata": {},
   "outputs": [
    {
     "data": {
      "text/plain": [
       "{'jaccard': <artifact: PCoAResults uuid: 7f0fa383-52b6-49fc-baf1-7547e9a3c06c>,\n",
       " 'braycurtis': <artifact: PCoAResults uuid: 0444cc15-d8f3-4f37-b73f-fc554e53639d>,\n",
       " 'unweighted_unifrac': <artifact: PCoAResults uuid: 7186acd7-a467-4a3c-a83b-a4f7dccb5367>,\n",
       " 'weighted_unifrac': <artifact: PCoAResults uuid: 5c3a21bb-8dce-474d-a225-4f0e889609bc>}"
      ]
     },
     "execution_count": 19,
     "metadata": {},
     "output_type": "execute_result"
    }
   ],
   "source": [
    "{k: diversity.methods.pcoa(v).pcoa for k, v in bdiv_dms.items()}"
   ]
  },
  {
   "cell_type": "code",
   "execution_count": 20,
   "id": "e18cf54d",
   "metadata": {},
   "outputs": [],
   "source": [
    "emplots = {k: emperor.visualizers.plot(v, meta, ignore_missing_samples = True).visualization for k, v in pcoas.items()}"
   ]
  },
  {
   "cell_type": "code",
   "execution_count": 21,
   "id": "aa31fb57",
   "metadata": {},
   "outputs": [
    {
     "data": {
      "text/plain": [
       "{'jaccard': <visualization: Visualization uuid: 4a187919-4e83-47ff-a49c-70e1b594b03e>,\n",
       " 'braycurtis': <visualization: Visualization uuid: cc627c76-06f9-43b2-bd11-e5b88ee6196e>,\n",
       " 'unweighted_unifrac': <visualization: Visualization uuid: d6b42362-8187-4818-80b2-f4558d16d757>,\n",
       " 'weighted_unifrac': <visualization: Visualization uuid: 6db15c9e-2818-448c-9c91-093191bef2ba>}"
      ]
     },
     "execution_count": 21,
     "metadata": {},
     "output_type": "execute_result"
    }
   ],
   "source": [
    "emplots"
   ]
  },
  {
   "cell_type": "code",
   "execution_count": 22,
   "id": "cb53e9dc",
   "metadata": {},
   "outputs": [],
   "source": [
    "for metric in emplots:\n",
    "    emplots[metric].save('./analysis/bdiv/emperor/%s.pcoa.qza' % metric)"
   ]
  },
  {
   "cell_type": "markdown",
   "id": "76999e66",
   "metadata": {},
   "source": [
    "Beta group significance visualizations are below"
   ]
  },
  {
   "cell_type": "markdown",
   "id": "e327d03e",
   "metadata": {},
   "source": [
    "## Alpha diversity"
   ]
  },
  {
   "cell_type": "code",
   "execution_count": 11,
   "id": "e044a42d",
   "metadata": {},
   "outputs": [
    {
     "name": "stderr",
     "output_type": "stream",
     "text": [
      "/Users/vcantu/miniconda3/envs/qiime2-2021.8/lib/python3.8/site-packages/sklearn/metrics/pairwise.py:1776: DataConversionWarning: Data was converted to boolean for metric jaccard\n",
      "  warnings.warn(msg, DataConversionWarning)\n",
      "/Users/vcantu/miniconda3/envs/qiime2-2021.8/lib/python3.8/site-packages/skbio/stats/ordination/_principal_coordinate_analysis.py:143: RuntimeWarning: The result contains negative eigenvalues. Please compare their magnitude with the magnitude of some of the largest positive eigenvalues. If the negative ones are smaller, it's probably safe to ignore them, but if they are large in magnitude, the results won't be useful. See the Notes section for more details. The smallest eigenvalue is -0.22947217175179552 and the largest is 16.013140607455476.\n",
      "  warn(\n",
      "/Users/vcantu/miniconda3/envs/qiime2-2021.8/lib/python3.8/site-packages/skbio/stats/ordination/_principal_coordinate_analysis.py:143: RuntimeWarning: The result contains negative eigenvalues. Please compare their magnitude with the magnitude of some of the largest positive eigenvalues. If the negative ones are smaller, it's probably safe to ignore them, but if they are large in magnitude, the results won't be useful. See the Notes section for more details. The smallest eigenvalue is -0.01009090463822706 and the largest is 5.140792755639485.\n",
      "  warn(\n",
      "/Users/vcantu/miniconda3/envs/qiime2-2021.8/lib/python3.8/site-packages/skbio/stats/ordination/_principal_coordinate_analysis.py:143: RuntimeWarning: The result contains negative eigenvalues. Please compare their magnitude with the magnitude of some of the largest positive eigenvalues. If the negative ones are smaller, it's probably safe to ignore them, but if they are large in magnitude, the results won't be useful. See the Notes section for more details. The smallest eigenvalue is -0.2773576841008933 and the largest is 6.647466442974807.\n",
      "  warn(\n"
     ]
    }
   ],
   "source": [
    "core_metr_phyl = diversity.pipelines.core_metrics_phylogenetic(table = tbl_filt,\n",
    "                                                               sampling_depth = 4000,\n",
    "                                                               phylogeny = tree,\n",
    "                                                               metadata = meta,\n",
    "                                                               n_jobs_or_threads = 2)"
   ]
  },
  {
   "cell_type": "code",
   "execution_count": 15,
   "id": "814df2cf",
   "metadata": {},
   "outputs": [],
   "source": [
    "!mkdir -p ./analysis/adiv\n",
    "!mkdir -p ./analysis/adiv/viz"
   ]
  },
  {
   "cell_type": "code",
   "execution_count": 12,
   "id": "6e7dfe74",
   "metadata": {},
   "outputs": [
    {
     "data": {
      "text/plain": [
       "'./analysis/adiv/faith_pd.qza'"
      ]
     },
     "execution_count": 12,
     "metadata": {},
     "output_type": "execute_result"
    }
   ],
   "source": [
    "core_metr_phyl.shannon_vector.save('./analysis/adiv/shannon.qza')\n",
    "core_metr_phyl.observed_features_vector.save('./analysis/adiv/observed_feat.qza')\n",
    "core_metr_phyl.evenness_vector.save('./analysis/adiv/evenness.qza')\n",
    "core_metr_phyl.faith_pd_vector.save('./analysis/adiv/faith_pd.qza')"
   ]
  },
  {
   "cell_type": "code",
   "execution_count": 13,
   "id": "86f847cc",
   "metadata": {},
   "outputs": [],
   "source": [
    "adiv_viz = {}\n",
    "adiv_viz['shannon'] = diversity.visualizers.alpha_group_significance(\n",
    "        alpha_diversity = core_metr_phyl.shannon_vector, metadata = meta)\n",
    "\n",
    "adiv_viz['observed_features'] = diversity.visualizers.alpha_group_significance(\n",
    "        alpha_diversity = core_metr_phyl.observed_features_vector, metadata = meta)\n",
    "\n",
    "adiv_viz['evenness'] = diversity.visualizers.alpha_group_significance(\n",
    "        alpha_diversity = core_metr_phyl.evenness_vector, metadata = meta)\n",
    "\n",
    "adiv_viz['faith_pd'] = diversity.visualizers.alpha_group_significance(\n",
    "        alpha_diversity = core_metr_phyl.faith_pd_vector, metadata = meta)"
   ]
  },
  {
   "cell_type": "code",
   "execution_count": 14,
   "id": "123e0b1f",
   "metadata": {},
   "outputs": [],
   "source": [
    "for metric in ('shannon', 'observed_features', 'evenness', 'faith_pd'):\n",
    "    adiv_viz[metric].visualization.save('./analysis/adiv/viz/%s.qzv' % metric)"
   ]
  },
  {
   "cell_type": "markdown",
   "id": "75f417d9",
   "metadata": {},
   "source": [
    "### Bdiv group significance"
   ]
  },
  {
   "cell_type": "code",
   "execution_count": 3,
   "id": "1085ae82",
   "metadata": {},
   "outputs": [
    {
     "name": "stderr",
     "output_type": "stream",
     "text": [
      "/Users/vcantu/miniconda3/envs/qiime2-2021.8/lib/python3.8/site-packages/skbio/stats/ordination/_principal_coordinate_analysis.py:143: RuntimeWarning: The result contains negative eigenvalues. Please compare their magnitude with the magnitude of some of the largest positive eigenvalues. If the negative ones are smaller, it's probably safe to ignore them, but if they are large in magnitude, the results won't be useful. See the Notes section for more details. The smallest eigenvalue is -0.010090904638227195 and the largest is 5.140792755639486.\n",
      "  warn(\n",
      "/Users/vcantu/miniconda3/envs/qiime2-2021.8/lib/python3.8/site-packages/skbio/stats/ordination/_principal_coordinate_analysis.py:143: RuntimeWarning: The result contains negative eigenvalues. Please compare their magnitude with the magnitude of some of the largest positive eigenvalues. If the negative ones are smaller, it's probably safe to ignore them, but if they are large in magnitude, the results won't be useful. See the Notes section for more details. The smallest eigenvalue is -0.2773576841008933 and the largest is 6.6474664429748005.\n",
      "  warn(\n",
      "/Users/vcantu/miniconda3/envs/qiime2-2021.8/lib/python3.8/site-packages/skbio/stats/ordination/_principal_coordinate_analysis.py:143: RuntimeWarning: The result contains negative eigenvalues. Please compare their magnitude with the magnitude of some of the largest positive eigenvalues. If the negative ones are smaller, it's probably safe to ignore them, but if they are large in magnitude, the results won't be useful. See the Notes section for more details. The smallest eigenvalue is -0.22947217175179582 and the largest is 16.013140607455483.\n",
      "  warn(\n"
     ]
    }
   ],
   "source": [
    "#calculating group significance for detected + inconclusive vs not detected\n",
    "bdiv_dm = {}\n",
    "bdiv_viz_anova = {}\n",
    "bdiv_viz_disp = {}\n",
    "for metric in ('unweighted_unifrac', 'weighted_unifrac', 'jaccard', 'braycurtis'):\n",
    "    bdiv_dm[metric] = Artifact.load('./analysis/bdiv/distances/%s.qza' % metric)\n",
    "    bdiv_viz_anova[metric] = diversity.visualizers.beta_group_significance(\n",
    "                        distance_matrix = bdiv_dm[metric], metadata = meta.get_column('indoor_space_detection'), \n",
    "                        method = 'permanova')\n",
    "    bdiv_viz_disp[metric] = diversity.visualizers.beta_group_significance(\n",
    "                        distance_matrix = bdiv_dm[metric], metadata = meta.get_column('indoor_space_detection'), \n",
    "                        method = 'permdisp')"
   ]
  },
  {
   "cell_type": "code",
   "execution_count": 4,
   "id": "e3ec5227",
   "metadata": {},
   "outputs": [],
   "source": [
    "for metric in ('unweighted_unifrac', 'weighted_unifrac', 'jaccard', 'braycurtis'):\n",
    "    bdiv_viz_anova[metric].visualization.save('./analysis/bdiv/viz/%s.anova.room.detect.qzv' % metric)\n",
    "    bdiv_viz_disp[metric].visualization.save('./analysis/bdiv/viz/%s.disp.room.detect.qzv' % metric)"
   ]
  },
  {
   "cell_type": "code",
   "execution_count": 25,
   "id": "73700322",
   "metadata": {},
   "outputs": [
    {
     "name": "stderr",
     "output_type": "stream",
     "text": [
      "/Users/vcantu/miniconda3/envs/qiime2-2021.8/lib/python3.8/site-packages/skbio/stats/ordination/_principal_coordinate_analysis.py:143: RuntimeWarning: The result contains negative eigenvalues. Please compare their magnitude with the magnitude of some of the largest positive eigenvalues. If the negative ones are smaller, it's probably safe to ignore them, but if they are large in magnitude, the results won't be useful. See the Notes section for more details. The smallest eigenvalue is -0.010090904638227146 and the largest is 5.14079275563949.\n",
      "  warn(\n",
      "/Users/vcantu/miniconda3/envs/qiime2-2021.8/lib/python3.8/site-packages/skbio/stats/ordination/_principal_coordinate_analysis.py:143: RuntimeWarning: The result contains negative eigenvalues. Please compare their magnitude with the magnitude of some of the largest positive eigenvalues. If the negative ones are smaller, it's probably safe to ignore them, but if they are large in magnitude, the results won't be useful. See the Notes section for more details. The smallest eigenvalue is -0.27735768410089334 and the largest is 6.647466442974805.\n",
      "  warn(\n",
      "/Users/vcantu/miniconda3/envs/qiime2-2021.8/lib/python3.8/site-packages/skbio/stats/ordination/_principal_coordinate_analysis.py:143: RuntimeWarning: The result contains negative eigenvalues. Please compare their magnitude with the magnitude of some of the largest positive eigenvalues. If the negative ones are smaller, it's probably safe to ignore them, but if they are large in magnitude, the results won't be useful. See the Notes section for more details. The smallest eigenvalue is -0.22947217175179566 and the largest is 16.013140607455483.\n",
      "  warn(\n"
     ]
    }
   ],
   "source": [
    "#calculating group significance for apt + living space\n",
    "bdiv_viz_anova = {}\n",
    "bdiv_viz_disp = {}\n",
    "for metric in ('unweighted_unifrac', 'weighted_unifrac', 'jaccard', 'braycurtis'):\n",
    "    bdiv_viz_anova[metric] = diversity.visualizers.beta_group_significance(\n",
    "                        distance_matrix = bdiv_dm[metric], metadata = meta.get_column('apt_space'), \n",
    "                        method = 'permanova')\n",
    "    bdiv_viz_disp[metric] = diversity.visualizers.beta_group_significance(\n",
    "                        distance_matrix = bdiv_dm[metric], metadata = meta.get_column('apt_space'), \n",
    "                        method = 'permdisp')"
   ]
  },
  {
   "cell_type": "code",
   "execution_count": 26,
   "id": "f9582c16",
   "metadata": {},
   "outputs": [],
   "source": [
    "for metric in ('unweighted_unifrac', 'weighted_unifrac', 'jaccard', 'braycurtis'):\n",
    "    bdiv_viz_anova[metric].visualization.save('./analysis/bdiv/viz/%s.anova.apt_space.qzv' % metric)\n",
    "    bdiv_viz_disp[metric].visualization.save('./analysis/bdiv/viz/%s.disp.apt_space.qzv' % metric)"
   ]
  },
  {
   "cell_type": "markdown",
   "id": "dc50a4f5",
   "metadata": {},
   "source": [
    "## Deicode"
   ]
  },
  {
   "cell_type": "code",
   "execution_count": 23,
   "id": "86fa850c",
   "metadata": {},
   "outputs": [],
   "source": [
    "!mkdir -p ./analysis/bdiv/deicode"
   ]
  },
  {
   "cell_type": "code",
   "execution_count": 41,
   "id": "290ef3b5",
   "metadata": {},
   "outputs": [],
   "source": [
    "rpca = deicode.methods.rpca(table = tbl_unrare_filt,\n",
    "                            min_sample_count = 500,\n",
    "                            min_feature_count = 10)\n"
   ]
  },
  {
   "cell_type": "code",
   "execution_count": 42,
   "id": "03315d39",
   "metadata": {},
   "outputs": [],
   "source": [
    "rpca_biplot = emperor.actions.biplot(biplot = rpca.biplot,\n",
    "                                    sample_metadata = meta)"
   ]
  },
  {
   "cell_type": "code",
   "execution_count": 43,
   "id": "6ae89dba",
   "metadata": {},
   "outputs": [
    {
     "data": {
      "text/plain": [
       "'./analysis/bdiv/deicode/deicode_distance.qza'"
      ]
     },
     "execution_count": 43,
     "metadata": {},
     "output_type": "execute_result"
    }
   ],
   "source": [
    "rpca.distance_matrix.save('./analysis/bdiv/deicode/deicode_distance.qza')"
   ]
  },
  {
   "cell_type": "code",
   "execution_count": 44,
   "id": "a974d14f",
   "metadata": {},
   "outputs": [
    {
     "data": {
      "text/plain": [
       "'./analysis/bdiv/deicode/deicode_ordination.qza'"
      ]
     },
     "execution_count": 44,
     "metadata": {},
     "output_type": "execute_result"
    }
   ],
   "source": [
    "rpca.biplot.save('./analysis/bdiv/deicode/deicode_ordination.qza')"
   ]
  },
  {
   "cell_type": "code",
   "execution_count": 45,
   "id": "3607a5f3",
   "metadata": {},
   "outputs": [
    {
     "data": {
      "text/plain": [
       "'./analysis/bdiv/deicode/deicode_biplot.qzv'"
      ]
     },
     "execution_count": 45,
     "metadata": {},
     "output_type": "execute_result"
    }
   ],
   "source": [
    "rpca_biplot.visualization.save('./analysis/bdiv/deicode/deicode_biplot.qzv')"
   ]
  },
  {
   "cell_type": "code",
   "execution_count": 46,
   "id": "80f8394a",
   "metadata": {},
   "outputs": [
    {
     "data": {
      "text/plain": [
       "<CategoricalMetadataColumn name='apt_space' id_count=475>"
      ]
     },
     "execution_count": 46,
     "metadata": {},
     "output_type": "execute_result"
    }
   ],
   "source": [
    "meta.get_column('apt_space')"
   ]
  },
  {
   "cell_type": "code",
   "execution_count": 47,
   "id": "3b5ca721",
   "metadata": {},
   "outputs": [
    {
     "data": {
      "text/plain": [
       "Apt.A             150\n",
       "Apt.C             142\n",
       "Apt.B             127\n",
       "Mock.Community     40\n",
       "Blank              16\n",
       "Name: host_subject_id, dtype: int64"
      ]
     },
     "execution_count": 47,
     "metadata": {},
     "output_type": "execute_result"
    }
   ],
   "source": [
    "meta.to_dataframe()['host_subject_id'].value_counts()"
   ]
  },
  {
   "cell_type": "code",
   "execution_count": 48,
   "id": "a884cdc4",
   "metadata": {},
   "outputs": [
    {
     "data": {
      "text/plain": [
       "Apt.C.kitchen            52\n",
       "Apt.A.kitchen            50\n",
       "Apt.B.kitchen            49\n",
       "Mock.Community.lab       40\n",
       "Apt.C.bathroom           36\n",
       "Apt.A.bathroom           28\n",
       "Apt.A.bedroom            26\n",
       "Apt.B.bedroom            25\n",
       "Apt.A.living_room        25\n",
       "Apt.B.bathroom           24\n",
       "Apt.C.bedroom            21\n",
       "Apt.B.living_room        18\n",
       "Apt.C.living_room        16\n",
       "Blank.lab                16\n",
       "Apt.C.dorm_entrance      12\n",
       "Apt.A.unused bathroom    12\n",
       "Apt.B.dorm_entrance       6\n",
       "Apt.A.dorm_entrance       6\n",
       "Apt.C.researcher          3\n",
       "Apt.B.researcher          3\n",
       "Apt.A.outside             2\n",
       "Apt.B.outside             2\n",
       "Apt.C.outside             2\n",
       "Apt.A.researcher          1\n",
       "Name: apt_space, dtype: int64"
      ]
     },
     "execution_count": 48,
     "metadata": {},
     "output_type": "execute_result"
    }
   ],
   "source": [
    "meta.to_dataframe()['apt_space'].value_counts()"
   ]
  },
  {
   "cell_type": "markdown",
   "id": "c183765f",
   "metadata": {},
   "source": [
    "## Subsetted DEICODE"
   ]
  },
  {
   "cell_type": "code",
   "execution_count": 30,
   "id": "967bd03d",
   "metadata": {},
   "outputs": [],
   "source": [
    "!mkdir -p ./analysis/bdiv/deicode/subject_id\n",
    "!mkdir -p ./analysis/bdiv/deicode/room"
   ]
  },
  {
   "cell_type": "code",
   "execution_count": 49,
   "id": "45caf893",
   "metadata": {},
   "outputs": [],
   "source": [
    "dei_ft = {}\n",
    "dei = {}\n",
    "for sub_id in ('a-apt', 'b-apt', 'c-apt'):\n",
    "    dei_ft[sub_id] = Artifact.load('./data/%s-preprocessed-unrare.qza' % sub_id)\n",
    "    dei[sub_id] = deicode.methods.rpca(table = dei_ft[sub_id], \n",
    "                               min_sample_count = 500,\n",
    "                               min_feature_count = 10)\n",
    "    dei[sub_id].distance_matrix.save('./analysis/bdiv/deicode/subject_id/%s-deicode-distance.qza' % sub_id)\n",
    "    dei[sub_id].biplot.save('./analysis/bdiv/deicode/subject_id/%s-deicode-ordination.qza' % sub_id)"
   ]
  },
  {
   "cell_type": "code",
   "execution_count": 50,
   "id": "6264cb06",
   "metadata": {},
   "outputs": [],
   "source": [
    "dei_ft = {}\n",
    "dei = {}\n",
    "for room in ('kitchen', 'bathroom', 'bedroom', 'living'):\n",
    "    dei_ft[room] = Artifact.load('./data/%s-preprocessed-unrare.qza' % room)\n",
    "    dei[room] = deicode.methods.rpca(table = dei_ft[room], \n",
    "                               min_sample_count = 500,\n",
    "                               min_feature_count = 10)\n",
    "    dei[room].distance_matrix.save('./analysis/bdiv/deicode/room/%s-deicode-distance.qza' % room)\n",
    "    dei[room].biplot.save('./analysis/bdiv/deicode/room/%s-deicode-ordination.qza' % room)"
   ]
  },
  {
   "cell_type": "markdown",
   "id": "8d98f86c",
   "metadata": {},
   "source": []
  },
  {
   "cell_type": "code",
   "execution_count": null,
   "id": "06df2e17",
   "metadata": {},
   "outputs": [],
   "source": []
  }
 ],
 "metadata": {
  "kernelspec": {
   "display_name": "Python 3 (ipykernel)",
   "language": "python",
   "name": "python3"
  },
  "language_info": {
   "codemirror_mode": {
    "name": "ipython",
    "version": 3
   },
   "file_extension": ".py",
   "mimetype": "text/x-python",
   "name": "python",
   "nbconvert_exporter": "python",
   "pygments_lexer": "ipython3",
   "version": "3.8.10"
  }
 },
 "nbformat": 4,
 "nbformat_minor": 5
}
