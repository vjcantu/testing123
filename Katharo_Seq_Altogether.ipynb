{
 "cells": [
  {
   "cell_type": "code",
   "execution_count": 1,
   "metadata": {
    "collapsed": true
   },
   "outputs": [],
   "source": [
    "# import tools\n",
    "import pandas as pd\n",
    "%matplotlib inline\n",
    "import qiime2\n",
    "from qiime2 import Artifact\n",
    "from tempfile import mkdtemp\n",
    "from qiime2.plugins import demux, deblur, quality_filter, \\\n",
    "                           metadata, feature_table, alignment, \\\n",
    "                           phylogeny, diversity, emperor, feature_classifier, \\\n",
    "                           taxa, composition\n",
    "from qiime2.plugins import fragment_insertion\n",
    "from qiime2.plugins.fragment_insertion.methods import filter_features\n",
    "from qiime2.plugins.feature_table.methods import filter_samples\n",
    "from qiime2.plugins.feature_table.visualizers import summarize\n",
    "import seaborn as sns\n",
    "import matplotlib.pyplot as plt\n",
    "import numpy as np\n",
    "import pylab\n",
    "from scipy.optimize import curve_fit"
   ]
  },
  {
   "cell_type": "markdown",
   "metadata": {},
   "source": [
    "Ran this comman in a barnacle interactive environment qsub -I -V\n",
    "source activate qiime2-2019.7\n",
    "qiime feature-classifier classify-sklearn   --i-classifier /databases/qiime2_qza/gg-13-8-99-nb-classifier.qza   --i-reads 94617_reference-hit.seqs.qza   --p-n-jobs 8   --o-classification 94617_reference-hit.taxonomy_gg.qza"
   ]
  },
  {
   "cell_type": "markdown",
   "metadata": {},
   "source": [
    "## Import Data"
   ]
  },
  {
   "cell_type": "code",
   "execution_count": 2,
   "metadata": {
    "collapsed": true
   },
   "outputs": [],
   "source": [
    "# \n",
    "table = Artifact.load('/Volumes/GoogleDrive/My Drive/PhD/Isolation_Dorm/Dorm_analysis/data/137124-feature-table.qza')\n",
    "tx = Artifact.load('/Volumes/GoogleDrive/My Drive/PhD/Isolation_Dorm/Dorm_analysis/data/137124-reference-hit.taxonomy_gg.qza').view(pd.DataFrame)"
   ]
  },
  {
   "cell_type": "markdown",
   "metadata": {},
   "source": [
    "## Quantify reads aligning to positve control"
   ]
  },
  {
   "cell_type": "code",
   "execution_count": 3,
   "metadata": {},
   "outputs": [
    {
     "data": {
      "text/html": [
       "<div>\n",
       "<style scoped>\n",
       "    .dataframe tbody tr th:only-of-type {\n",
       "        vertical-align: middle;\n",
       "    }\n",
       "\n",
       "    .dataframe tbody tr th {\n",
       "        vertical-align: top;\n",
       "    }\n",
       "\n",
       "    .dataframe thead th {\n",
       "        text-align: right;\n",
       "    }\n",
       "</style>\n",
       "<table border=\"1\" class=\"dataframe\">\n",
       "  <thead>\n",
       "    <tr style=\"text-align: right;\">\n",
       "      <th></th>\n",
       "      <th>index</th>\n",
       "      <th>13957.KATHARO1.12A</th>\n",
       "      <th>13957.KATHARO3.10H</th>\n",
       "      <th>13957.KATHARO4.9A</th>\n",
       "      <th>13957.KATHARO2.11A</th>\n",
       "      <th>13957.KATHARO5.8A</th>\n",
       "      <th>Confidence</th>\n",
       "    </tr>\n",
       "    <tr>\n",
       "      <th>Taxon</th>\n",
       "      <th></th>\n",
       "      <th></th>\n",
       "      <th></th>\n",
       "      <th></th>\n",
       "      <th></th>\n",
       "      <th></th>\n",
       "      <th></th>\n",
       "    </tr>\n",
       "  </thead>\n",
       "  <tbody>\n",
       "    <tr>\n",
       "      <th>k__Bacteria; p__Firmicutes; c__Bacilli; o__Bacillales; f__Bacillaceae; g__Bacillus; s__</th>\n",
       "      <td>TACGTAGGTGGCAAGCGTTGTCCGGAATTATTGGGCGTAAAGGGCT...</td>\n",
       "      <td>32676.0</td>\n",
       "      <td>25108.0</td>\n",
       "      <td>36699.0</td>\n",
       "      <td>35715.0</td>\n",
       "      <td>38083.0</td>\n",
       "      <td>0.8692011958399442</td>\n",
       "    </tr>\n",
       "    <tr>\n",
       "      <th>k__Bacteria; p__Proteobacteria; c__Alphaproteobacteria; o__Rhodobacterales; f__Rhodobacteraceae; g__Paracoccus; s__</th>\n",
       "      <td>TACGGAGGGGGCTAGCGTTGTTCGGAATTACTGGGCGTAAAGCGCA...</td>\n",
       "      <td>4160.0</td>\n",
       "      <td>4370.0</td>\n",
       "      <td>8410.0</td>\n",
       "      <td>7565.0</td>\n",
       "      <td>8182.0</td>\n",
       "      <td>0.7379380883071627</td>\n",
       "    </tr>\n",
       "    <tr>\n",
       "      <th>k__Bacteria; p__Firmicutes; c__Bacilli; o__Bacillales; f__Bacillaceae; g__Bacillus</th>\n",
       "      <td>TACGTAGGTGGCAAGCGTTGTCCGGAATTATTGGGCGTAAAGGGCT...</td>\n",
       "      <td>1768.0</td>\n",
       "      <td>919.0</td>\n",
       "      <td>1439.0</td>\n",
       "      <td>1401.0</td>\n",
       "      <td>1305.0</td>\n",
       "      <td>0.8892437937043013</td>\n",
       "    </tr>\n",
       "    <tr>\n",
       "      <th>k__Bacteria; p__Firmicutes; c__Bacilli; o__Bacillales; f__Bacillaceae; g__Bacillus; s__</th>\n",
       "      <td>TACGTAGGTGGCAAGCGTTGTCCGGAATTATTGGGCGTAAAGGGCT...</td>\n",
       "      <td>363.0</td>\n",
       "      <td>361.0</td>\n",
       "      <td>361.0</td>\n",
       "      <td>512.0</td>\n",
       "      <td>689.0</td>\n",
       "      <td>0.9445516187667186</td>\n",
       "    </tr>\n",
       "    <tr>\n",
       "      <th>k__Bacteria; p__Proteobacteria; c__Betaproteobacteria; o__Burkholderiales; f__Oxalobacteraceae; g__Ralstonia; s__</th>\n",
       "      <td>TACGTAGGGTCCAAGCGTTAATCGGAATTACTGGGCGTAAAGCGTG...</td>\n",
       "      <td>8.0</td>\n",
       "      <td>21.0</td>\n",
       "      <td>0.0</td>\n",
       "      <td>4.0</td>\n",
       "      <td>0.0</td>\n",
       "      <td>0.999820555057887</td>\n",
       "    </tr>\n",
       "  </tbody>\n",
       "</table>\n",
       "</div>"
      ],
      "text/plain": [
       "                                                                                                index  \\\n",
       "Taxon                                                                                                   \n",
       "k__Bacteria; p__Firmicutes; c__Bacilli; o__Baci...  TACGTAGGTGGCAAGCGTTGTCCGGAATTATTGGGCGTAAAGGGCT...   \n",
       "k__Bacteria; p__Proteobacteria; c__Alphaproteob...  TACGGAGGGGGCTAGCGTTGTTCGGAATTACTGGGCGTAAAGCGCA...   \n",
       "k__Bacteria; p__Firmicutes; c__Bacilli; o__Baci...  TACGTAGGTGGCAAGCGTTGTCCGGAATTATTGGGCGTAAAGGGCT...   \n",
       "k__Bacteria; p__Firmicutes; c__Bacilli; o__Baci...  TACGTAGGTGGCAAGCGTTGTCCGGAATTATTGGGCGTAAAGGGCT...   \n",
       "k__Bacteria; p__Proteobacteria; c__Betaproteoba...  TACGTAGGGTCCAAGCGTTAATCGGAATTACTGGGCGTAAAGCGTG...   \n",
       "\n",
       "                                                    13957.KATHARO1.12A  \\\n",
       "Taxon                                                                    \n",
       "k__Bacteria; p__Firmicutes; c__Bacilli; o__Baci...             32676.0   \n",
       "k__Bacteria; p__Proteobacteria; c__Alphaproteob...              4160.0   \n",
       "k__Bacteria; p__Firmicutes; c__Bacilli; o__Baci...              1768.0   \n",
       "k__Bacteria; p__Firmicutes; c__Bacilli; o__Baci...               363.0   \n",
       "k__Bacteria; p__Proteobacteria; c__Betaproteoba...                 8.0   \n",
       "\n",
       "                                                    13957.KATHARO3.10H  \\\n",
       "Taxon                                                                    \n",
       "k__Bacteria; p__Firmicutes; c__Bacilli; o__Baci...             25108.0   \n",
       "k__Bacteria; p__Proteobacteria; c__Alphaproteob...              4370.0   \n",
       "k__Bacteria; p__Firmicutes; c__Bacilli; o__Baci...               919.0   \n",
       "k__Bacteria; p__Firmicutes; c__Bacilli; o__Baci...               361.0   \n",
       "k__Bacteria; p__Proteobacteria; c__Betaproteoba...                21.0   \n",
       "\n",
       "                                                    13957.KATHARO4.9A  \\\n",
       "Taxon                                                                   \n",
       "k__Bacteria; p__Firmicutes; c__Bacilli; o__Baci...            36699.0   \n",
       "k__Bacteria; p__Proteobacteria; c__Alphaproteob...             8410.0   \n",
       "k__Bacteria; p__Firmicutes; c__Bacilli; o__Baci...             1439.0   \n",
       "k__Bacteria; p__Firmicutes; c__Bacilli; o__Baci...              361.0   \n",
       "k__Bacteria; p__Proteobacteria; c__Betaproteoba...                0.0   \n",
       "\n",
       "                                                    13957.KATHARO2.11A  \\\n",
       "Taxon                                                                    \n",
       "k__Bacteria; p__Firmicutes; c__Bacilli; o__Baci...             35715.0   \n",
       "k__Bacteria; p__Proteobacteria; c__Alphaproteob...              7565.0   \n",
       "k__Bacteria; p__Firmicutes; c__Bacilli; o__Baci...              1401.0   \n",
       "k__Bacteria; p__Firmicutes; c__Bacilli; o__Baci...               512.0   \n",
       "k__Bacteria; p__Proteobacteria; c__Betaproteoba...                 4.0   \n",
       "\n",
       "                                                    13957.KATHARO5.8A  \\\n",
       "Taxon                                                                   \n",
       "k__Bacteria; p__Firmicutes; c__Bacilli; o__Baci...            38083.0   \n",
       "k__Bacteria; p__Proteobacteria; c__Alphaproteob...             8182.0   \n",
       "k__Bacteria; p__Firmicutes; c__Bacilli; o__Baci...             1305.0   \n",
       "k__Bacteria; p__Firmicutes; c__Bacilli; o__Baci...              689.0   \n",
       "k__Bacteria; p__Proteobacteria; c__Betaproteoba...                0.0   \n",
       "\n",
       "                                                            Confidence  \n",
       "Taxon                                                                   \n",
       "k__Bacteria; p__Firmicutes; c__Bacilli; o__Baci...  0.8692011958399442  \n",
       "k__Bacteria; p__Proteobacteria; c__Alphaproteob...  0.7379380883071627  \n",
       "k__Bacteria; p__Firmicutes; c__Bacilli; o__Baci...  0.8892437937043013  \n",
       "k__Bacteria; p__Firmicutes; c__Bacilli; o__Baci...  0.9445516187667186  \n",
       "k__Bacteria; p__Proteobacteria; c__Betaproteoba...   0.999820555057887  "
      ]
     },
     "execution_count": 3,
     "metadata": {},
     "output_type": "execute_result"
    }
   ],
   "source": [
    "# see what it looks like at ASV level\n",
    "df_raw = table.view(pd.DataFrame)\n",
    "df_raw_kath = df_raw[df_raw.index.str.contains('KATHARO')]\n",
    "# ensure table values are numeric\n",
    "df_raw_kath = df_raw_kath.astype(float)\n",
    "# quick visual check that top 7 taxa make up most of the reads in highest input sample (well A7)\n",
    "max_input = df_raw_kath[df_raw_kath.index.str.contains(\"12A|11A|10H|9A|8A\")]\n",
    "df_raw_kathT = max_input.T\n",
    "top10 = df_raw_kathT.sort_values(df_raw_kathT.columns[0], ascending = False).head(10)\n",
    "# add in taxonomy\n",
    "top10tx = pd.merge(top10, tx, left_index=True, right_index=True)\n",
    "top10tx.reset_index(inplace=True)\n",
    "top10tx.set_index('Taxon').head(5)\n"
   ]
  },
  {
   "cell_type": "code",
   "execution_count": 4,
   "metadata": {
    "collapsed": true
   },
   "outputs": [],
   "source": [
    "# make a list of the taxa expected in the Katharo community (also the  most abundant in the highest input samples)\n",
    "bacteria4 = top10tx.head(4)['index']"
   ]
  },
  {
   "cell_type": "code",
   "execution_count": 5,
   "metadata": {
    "collapsed": true
   },
   "outputs": [],
   "source": [
    "# Calculate the total number of reads per sample\n",
    "df_raw_kath['deblur_reads'] = df_raw_kath.sum(axis=1)\n",
    "# calculate the number of reads aligning to the mock community input genera\n",
    "df_raw_kath['kath_reads'] = df_raw_kath[bacteria4].sum(axis=1)\n",
    "# calculate the percent correctly assigned\n",
    "df_raw_kath['correct_assign'] = df_raw_kath['kath_reads'] / df_raw_kath['deblur_reads']"
   ]
  },
  {
   "cell_type": "code",
   "execution_count": 6,
   "metadata": {},
   "outputs": [
    {
     "name": "stderr",
     "output_type": "stream",
     "text": [
      "/var/folders/4y/4cpz9m8d70l80zdcqlxq6p4c0000gp/T/ipykernel_79162/158095675.py:3: SettingWithCopyWarning: \n",
      "A value is trying to be set on a copy of a slice from a DataFrame.\n",
      "Try using .loc[row_indexer,col_indexer] = value instead\n",
      "\n",
      "See the caveats in the documentation: https://pandas.pydata.org/pandas-docs/stable/user_guide/indexing.html#returning-a-view-versus-a-copy\n",
      "  katharo['log_deblur_reads'] = np.log10(katharo['deblur_reads'])\n"
     ]
    }
   ],
   "source": [
    "# subset out KatharoSeq columns and add in logarithim of reads for plotting\n",
    "katharo = df_raw_kath[['correct_assign','deblur_reads','kath_reads']]\n",
    "katharo['log_deblur_reads'] = np.log10(katharo['deblur_reads'])"
   ]
  },
  {
   "cell_type": "markdown",
   "metadata": {},
   "source": [
    "## Fit an allosteric sigmoid curve for extrapolating min read count"
   ]
  },
  {
   "cell_type": "code",
   "execution_count": 19,
   "metadata": {},
   "outputs": [
    {
     "name": "stdout",
     "output_type": "stream",
     "text": [
      "[8.58003327e+00 1.00587473e+04]\n"
     ]
    },
    {
     "data": {
      "image/png": "[encoded data removed]",
      "text/plain": [
       "<Figure size 432x288 with 1 Axes>"
      ]
     },
     "metadata": {
      "needs_background": "light"
     },
     "output_type": "display_data"
    }
   ],
   "source": [
    "# define the allosteric sigmoid equation\n",
    "def allosteric_sigmoid(x, h, k_prime):\n",
    "    y = x ** h / (k_prime + x ** h)\n",
    "    return y\n",
    " \n",
    "# fit the curve to your data\n",
    "popt, pcov = curve_fit(allosteric_sigmoid, katharo['log_deblur_reads'], katharo['correct_assign'], method='dogbox')\n",
    "print(popt)\n",
    "# plot fit curve\n",
    "x = np.linspace(0, 5, 50)\n",
    "y = allosteric_sigmoid(x, *popt)\n",
    "\n",
    "# plot the fit\n",
    "pylab.plot(katharo['log_deblur_reads'], katharo['correct_assign'], 'o', label='data')\n",
    "pylab.plot(x,y, label='fit')\n",
    "pylab.ylim(0, 1.05)\n",
    "pylab.legend(loc='best')\n",
    "pylab.savefig('./figs/sup2a.svg')\n",
    "pylab.show()\n",
    "\n",
    "\n"
   ]
  },
  {
   "cell_type": "code",
   "execution_count": 8,
   "metadata": {},
   "outputs": [
    {
     "data": {
      "text/plain": [
       "<Figure size 432x288 with 0 Axes>"
      ]
     },
     "metadata": {},
     "output_type": "display_data"
    }
   ],
   "source": [
    "plt.savefig('./figs/sup2a.svg', format='svg')"
   ]
  },
  {
   "cell_type": "code",
   "execution_count": 19,
   "metadata": {},
   "outputs": [
    {
     "data": {
      "text/plain": [
       "2759"
      ]
     },
     "execution_count": 19,
     "metadata": {},
     "output_type": "execute_result"
    }
   ],
   "source": [
    "# Determine the number of reads at which 80% of reads are expected to match input\n",
    "\n",
    "# assign variables and solve for X (number of reads to pass filter)\n",
    "h = popt[0]  # first value printed above graph\n",
    "k = popt[1]   # second value printed above graph\n",
    "y = 0.8 ## what you want to solve for\n",
    "\n",
    "min_log_reads = np.power((k/((1/y)-1)),(1/h))\n",
    "min_freq_80 = np.power(10, min_log_reads).astype(int)\n",
    "min_freq_80"
   ]
  },
  {
   "cell_type": "markdown",
   "metadata": {},
   "source": [
    "## Remove samples with less than Katharoseq read limit"
   ]
  },
  {
   "cell_type": "code",
   "execution_count": 20,
   "metadata": {
    "collapsed": true
   },
   "outputs": [],
   "source": [
    "# filter out samples with read counts below what is estimated to achieve 80% accuracy  \n",
    "KS_table_80 = feature_table.methods.filter_samples(table = table,\n",
    "                             min_frequency = min_freq_80)\n",
    "df_80 = KS_table_80.filtered_table.view(pd.DataFrame)"
   ]
  },
  {
   "cell_type": "code",
   "execution_count": 21,
   "metadata": {},
   "outputs": [
    {
     "name": "stdout",
     "output_type": "stream",
     "text": [
      "full dataset 472 \n",
      " 80% 305 0.6461864406779662 % \n",
      "\n"
     ]
    }
   ],
   "source": [
    "# import collapsed table as pandas dataframe\n",
    "print(\"full dataset\", len(df_raw), \"\\n\",\n",
    "      \"80%\", len(df_80), len(df_80)/len(df_raw),\"%\", \"\\n\")"
   ]
  },
  {
   "cell_type": "markdown",
   "metadata": {},
   "source": [
    "The hospital paper only held onto 55% of samples, so this looks good."
   ]
  },
  {
   "cell_type": "markdown",
   "metadata": {},
   "source": [
    "## Export Data"
   ]
  },
  {
   "cell_type": "code",
   "execution_count": 22,
   "metadata": {},
   "outputs": [
    {
     "data": {
      "text/plain": [
       "'/Volumes/GoogleDrive/My Drive/PhD/Isolation_Dorm/Dorm_analysis/data/137124-feature-table-KathSeqFil.qza'"
      ]
     },
     "execution_count": 22,
     "metadata": {},
     "output_type": "execute_result"
    }
   ],
   "source": [
    "KS_table_80.filtered_table.save('/Volumes/GoogleDrive/My Drive/PhD/Isolation_Dorm/Dorm_analysis/data/137124-feature-table-KathSeqFil.qza')"
   ]
  },
  {
   "cell_type": "code",
   "execution_count": 25,
   "metadata": {},
   "outputs": [
    {
     "data": {
      "text/html": [
       "<div>\n",
       "<style scoped>\n",
       "    .dataframe tbody tr th:only-of-type {\n",
       "        vertical-align: middle;\n",
       "    }\n",
       "\n",
       "    .dataframe tbody tr th {\n",
       "        vertical-align: top;\n",
       "    }\n",
       "\n",
       "    .dataframe thead th {\n",
       "        text-align: right;\n",
       "    }\n",
       "</style>\n",
       "<table border=\"1\" class=\"dataframe\">\n",
       "  <thead>\n",
       "    <tr style=\"text-align: right;\">\n",
       "      <th></th>\n",
       "      <th>correct_assign</th>\n",
       "      <th>deblur_reads</th>\n",
       "      <th>kath_reads</th>\n",
       "      <th>log_deblur_reads</th>\n",
       "    </tr>\n",
       "  </thead>\n",
       "  <tbody>\n",
       "    <tr>\n",
       "      <th>13957.KATHARO1.12A</th>\n",
       "      <td>0.998872</td>\n",
       "      <td>39011.0</td>\n",
       "      <td>38967.0</td>\n",
       "      <td>4.591187</td>\n",
       "    </tr>\n",
       "    <tr>\n",
       "      <th>13957.KATHARO1.12B</th>\n",
       "      <td>0.986126</td>\n",
       "      <td>22560.0</td>\n",
       "      <td>22247.0</td>\n",
       "      <td>4.353339</td>\n",
       "    </tr>\n",
       "    <tr>\n",
       "      <th>13957.KATHARO1.12C</th>\n",
       "      <td>0.978341</td>\n",
       "      <td>10342.0</td>\n",
       "      <td>10118.0</td>\n",
       "      <td>4.014605</td>\n",
       "    </tr>\n",
       "    <tr>\n",
       "      <th>13957.KATHARO1.12D</th>\n",
       "      <td>0.630404</td>\n",
       "      <td>717.0</td>\n",
       "      <td>452.0</td>\n",
       "      <td>2.855519</td>\n",
       "    </tr>\n",
       "    <tr>\n",
       "      <th>13957.KATHARO1.12E</th>\n",
       "      <td>0.131579</td>\n",
       "      <td>190.0</td>\n",
       "      <td>25.0</td>\n",
       "      <td>2.278754</td>\n",
       "    </tr>\n",
       "    <tr>\n",
       "      <th>13957.KATHARO1.12F</th>\n",
       "      <td>0.000000</td>\n",
       "      <td>177.0</td>\n",
       "      <td>0.0</td>\n",
       "      <td>2.247973</td>\n",
       "    </tr>\n",
       "    <tr>\n",
       "      <th>13957.KATHARO1.12G</th>\n",
       "      <td>0.000000</td>\n",
       "      <td>589.0</td>\n",
       "      <td>0.0</td>\n",
       "      <td>2.770115</td>\n",
       "    </tr>\n",
       "    <tr>\n",
       "      <th>13957.KATHARO1.12H</th>\n",
       "      <td>0.000000</td>\n",
       "      <td>1479.0</td>\n",
       "      <td>0.0</td>\n",
       "      <td>3.169968</td>\n",
       "    </tr>\n",
       "    <tr>\n",
       "      <th>13957.KATHARO2.11A</th>\n",
       "      <td>0.996692</td>\n",
       "      <td>45343.0</td>\n",
       "      <td>45193.0</td>\n",
       "      <td>4.656510</td>\n",
       "    </tr>\n",
       "    <tr>\n",
       "      <th>13957.KATHARO2.11B</th>\n",
       "      <td>0.997089</td>\n",
       "      <td>11335.0</td>\n",
       "      <td>11302.0</td>\n",
       "      <td>4.054422</td>\n",
       "    </tr>\n",
       "    <tr>\n",
       "      <th>13957.KATHARO2.11C</th>\n",
       "      <td>0.901712</td>\n",
       "      <td>1811.0</td>\n",
       "      <td>1633.0</td>\n",
       "      <td>3.257918</td>\n",
       "    </tr>\n",
       "    <tr>\n",
       "      <th>13957.KATHARO2.11D</th>\n",
       "      <td>0.671642</td>\n",
       "      <td>134.0</td>\n",
       "      <td>90.0</td>\n",
       "      <td>2.127105</td>\n",
       "    </tr>\n",
       "    <tr>\n",
       "      <th>13957.KATHARO2.11E</th>\n",
       "      <td>0.000000</td>\n",
       "      <td>57.0</td>\n",
       "      <td>0.0</td>\n",
       "      <td>1.755875</td>\n",
       "    </tr>\n",
       "    <tr>\n",
       "      <th>13957.KATHARO2.11F</th>\n",
       "      <td>0.037975</td>\n",
       "      <td>158.0</td>\n",
       "      <td>6.0</td>\n",
       "      <td>2.198657</td>\n",
       "    </tr>\n",
       "    <tr>\n",
       "      <th>13957.KATHARO2.11G</th>\n",
       "      <td>0.000000</td>\n",
       "      <td>147.0</td>\n",
       "      <td>0.0</td>\n",
       "      <td>2.167317</td>\n",
       "    </tr>\n",
       "    <tr>\n",
       "      <th>13957.KATHARO2.11H</th>\n",
       "      <td>0.000000</td>\n",
       "      <td>233.0</td>\n",
       "      <td>0.0</td>\n",
       "      <td>2.367356</td>\n",
       "    </tr>\n",
       "    <tr>\n",
       "      <th>13957.KATHARO3.10A</th>\n",
       "      <td>0.000000</td>\n",
       "      <td>326.0</td>\n",
       "      <td>0.0</td>\n",
       "      <td>2.513218</td>\n",
       "    </tr>\n",
       "    <tr>\n",
       "      <th>13957.KATHARO3.10B</th>\n",
       "      <td>0.000000</td>\n",
       "      <td>106.0</td>\n",
       "      <td>0.0</td>\n",
       "      <td>2.025306</td>\n",
       "    </tr>\n",
       "    <tr>\n",
       "      <th>13957.KATHARO3.10C</th>\n",
       "      <td>0.000000</td>\n",
       "      <td>186.0</td>\n",
       "      <td>0.0</td>\n",
       "      <td>2.269513</td>\n",
       "    </tr>\n",
       "    <tr>\n",
       "      <th>13957.KATHARO3.10D</th>\n",
       "      <td>0.307692</td>\n",
       "      <td>117.0</td>\n",
       "      <td>36.0</td>\n",
       "      <td>2.068186</td>\n",
       "    </tr>\n",
       "    <tr>\n",
       "      <th>13957.KATHARO3.10E</th>\n",
       "      <td>0.448276</td>\n",
       "      <td>116.0</td>\n",
       "      <td>52.0</td>\n",
       "      <td>2.064458</td>\n",
       "    </tr>\n",
       "    <tr>\n",
       "      <th>13957.KATHARO3.10F</th>\n",
       "      <td>0.949563</td>\n",
       "      <td>2974.0</td>\n",
       "      <td>2824.0</td>\n",
       "      <td>3.473341</td>\n",
       "    </tr>\n",
       "    <tr>\n",
       "      <th>13957.KATHARO3.10G</th>\n",
       "      <td>0.991660</td>\n",
       "      <td>14628.0</td>\n",
       "      <td>14506.0</td>\n",
       "      <td>4.165185</td>\n",
       "    </tr>\n",
       "    <tr>\n",
       "      <th>13957.KATHARO3.10H</th>\n",
       "      <td>0.994536</td>\n",
       "      <td>30927.0</td>\n",
       "      <td>30758.0</td>\n",
       "      <td>4.490338</td>\n",
       "    </tr>\n",
       "    <tr>\n",
       "      <th>13957.KATHARO4.9A</th>\n",
       "      <td>0.997830</td>\n",
       "      <td>47011.0</td>\n",
       "      <td>46909.0</td>\n",
       "      <td>4.672199</td>\n",
       "    </tr>\n",
       "    <tr>\n",
       "      <th>13957.KATHARO4.9B</th>\n",
       "      <td>0.998523</td>\n",
       "      <td>23704.0</td>\n",
       "      <td>23669.0</td>\n",
       "      <td>4.374822</td>\n",
       "    </tr>\n",
       "    <tr>\n",
       "      <th>13957.KATHARO4.9C</th>\n",
       "      <td>0.990848</td>\n",
       "      <td>7976.0</td>\n",
       "      <td>7903.0</td>\n",
       "      <td>3.901785</td>\n",
       "    </tr>\n",
       "    <tr>\n",
       "      <th>13957.KATHARO4.9D</th>\n",
       "      <td>0.729805</td>\n",
       "      <td>718.0</td>\n",
       "      <td>524.0</td>\n",
       "      <td>2.856124</td>\n",
       "    </tr>\n",
       "    <tr>\n",
       "      <th>13957.KATHARO4.9E</th>\n",
       "      <td>0.287879</td>\n",
       "      <td>396.0</td>\n",
       "      <td>114.0</td>\n",
       "      <td>2.597695</td>\n",
       "    </tr>\n",
       "    <tr>\n",
       "      <th>13957.KATHARO4.9F</th>\n",
       "      <td>0.013233</td>\n",
       "      <td>529.0</td>\n",
       "      <td>7.0</td>\n",
       "      <td>2.723456</td>\n",
       "    </tr>\n",
       "    <tr>\n",
       "      <th>13957.KATHARO4.9G</th>\n",
       "      <td>0.000000</td>\n",
       "      <td>209.0</td>\n",
       "      <td>0.0</td>\n",
       "      <td>2.320146</td>\n",
       "    </tr>\n",
       "    <tr>\n",
       "      <th>13957.KATHARO4.9H</th>\n",
       "      <td>0.000000</td>\n",
       "      <td>319.0</td>\n",
       "      <td>0.0</td>\n",
       "      <td>2.503791</td>\n",
       "    </tr>\n",
       "    <tr>\n",
       "      <th>13957.KATHARO5.8A</th>\n",
       "      <td>0.998304</td>\n",
       "      <td>48341.0</td>\n",
       "      <td>48259.0</td>\n",
       "      <td>4.684316</td>\n",
       "    </tr>\n",
       "    <tr>\n",
       "      <th>13957.KATHARO5.8B</th>\n",
       "      <td>0.999404</td>\n",
       "      <td>18450.0</td>\n",
       "      <td>18439.0</td>\n",
       "      <td>4.265996</td>\n",
       "    </tr>\n",
       "    <tr>\n",
       "      <th>13957.KATHARO5.8C</th>\n",
       "      <td>0.980612</td>\n",
       "      <td>6963.0</td>\n",
       "      <td>6828.0</td>\n",
       "      <td>3.842796</td>\n",
       "    </tr>\n",
       "    <tr>\n",
       "      <th>13957.KATHARO5.8D</th>\n",
       "      <td>0.974194</td>\n",
       "      <td>620.0</td>\n",
       "      <td>604.0</td>\n",
       "      <td>2.792392</td>\n",
       "    </tr>\n",
       "    <tr>\n",
       "      <th>13957.KATHARO5.8E</th>\n",
       "      <td>0.630872</td>\n",
       "      <td>298.0</td>\n",
       "      <td>188.0</td>\n",
       "      <td>2.474216</td>\n",
       "    </tr>\n",
       "    <tr>\n",
       "      <th>13957.KATHARO5.8F</th>\n",
       "      <td>0.033898</td>\n",
       "      <td>118.0</td>\n",
       "      <td>4.0</td>\n",
       "      <td>2.071882</td>\n",
       "    </tr>\n",
       "    <tr>\n",
       "      <th>13957.KATHARO5.8G</th>\n",
       "      <td>0.000000</td>\n",
       "      <td>312.0</td>\n",
       "      <td>0.0</td>\n",
       "      <td>2.494155</td>\n",
       "    </tr>\n",
       "    <tr>\n",
       "      <th>13957.KATHARO5.8H</th>\n",
       "      <td>0.000000</td>\n",
       "      <td>46.0</td>\n",
       "      <td>0.0</td>\n",
       "      <td>1.662758</td>\n",
       "    </tr>\n",
       "  </tbody>\n",
       "</table>\n",
       "</div>"
      ],
      "text/plain": [
       "                    correct_assign  deblur_reads  kath_reads  log_deblur_reads\n",
       "13957.KATHARO1.12A        0.998872       39011.0     38967.0          4.591187\n",
       "13957.KATHARO1.12B        0.986126       22560.0     22247.0          4.353339\n",
       "13957.KATHARO1.12C        0.978341       10342.0     10118.0          4.014605\n",
       "13957.KATHARO1.12D        0.630404         717.0       452.0          2.855519\n",
       "13957.KATHARO1.12E        0.131579         190.0        25.0          2.278754\n",
       "13957.KATHARO1.12F        0.000000         177.0         0.0          2.247973\n",
       "13957.KATHARO1.12G        0.000000         589.0         0.0          2.770115\n",
       "13957.KATHARO1.12H        0.000000        1479.0         0.0          3.169968\n",
       "13957.KATHARO2.11A        0.996692       45343.0     45193.0          4.656510\n",
       "13957.KATHARO2.11B        0.997089       11335.0     11302.0          4.054422\n",
       "13957.KATHARO2.11C        0.901712        1811.0      1633.0          3.257918\n",
       "13957.KATHARO2.11D        0.671642         134.0        90.0          2.127105\n",
       "13957.KATHARO2.11E        0.000000          57.0         0.0          1.755875\n",
       "13957.KATHARO2.11F        0.037975         158.0         6.0          2.198657\n",
       "13957.KATHARO2.11G        0.000000         147.0         0.0          2.167317\n",
       "13957.KATHARO2.11H        0.000000         233.0         0.0          2.367356\n",
       "13957.KATHARO3.10A        0.000000         326.0         0.0          2.513218\n",
       "13957.KATHARO3.10B        0.000000         106.0         0.0          2.025306\n",
       "13957.KATHARO3.10C        0.000000         186.0         0.0          2.269513\n",
       "13957.KATHARO3.10D        0.307692         117.0        36.0          2.068186\n",
       "13957.KATHARO3.10E        0.448276         116.0        52.0          2.064458\n",
       "13957.KATHARO3.10F        0.949563        2974.0      2824.0          3.473341\n",
       "13957.KATHARO3.10G        0.991660       14628.0     14506.0          4.165185\n",
       "13957.KATHARO3.10H        0.994536       30927.0     30758.0          4.490338\n",
       "13957.KATHARO4.9A         0.997830       47011.0     46909.0          4.672199\n",
       "13957.KATHARO4.9B         0.998523       23704.0     23669.0          4.374822\n",
       "13957.KATHARO4.9C         0.990848        7976.0      7903.0          3.901785\n",
       "13957.KATHARO4.9D         0.729805         718.0       524.0          2.856124\n",
       "13957.KATHARO4.9E         0.287879         396.0       114.0          2.597695\n",
       "13957.KATHARO4.9F         0.013233         529.0         7.0          2.723456\n",
       "13957.KATHARO4.9G         0.000000         209.0         0.0          2.320146\n",
       "13957.KATHARO4.9H         0.000000         319.0         0.0          2.503791\n",
       "13957.KATHARO5.8A         0.998304       48341.0     48259.0          4.684316\n",
       "13957.KATHARO5.8B         0.999404       18450.0     18439.0          4.265996\n",
       "13957.KATHARO5.8C         0.980612        6963.0      6828.0          3.842796\n",
       "13957.KATHARO5.8D         0.974194         620.0       604.0          2.792392\n",
       "13957.KATHARO5.8E         0.630872         298.0       188.0          2.474216\n",
       "13957.KATHARO5.8F         0.033898         118.0         4.0          2.071882\n",
       "13957.KATHARO5.8G         0.000000         312.0         0.0          2.494155\n",
       "13957.KATHARO5.8H         0.000000          46.0         0.0          1.662758"
      ]
     },
     "execution_count": 25,
     "metadata": {},
     "output_type": "execute_result"
    }
   ],
   "source": [
    "##May need to be redone depending on which are the mock communities. But still, a higher \n",
    "##microbial load than the hospital paper, but greater retention of samples!\n",
    "katharo.sort_index() "
   ]
  },
  {
   "cell_type": "code",
   "execution_count": null,
   "metadata": {
    "collapsed": true
   },
   "outputs": [],
   "source": []
  }
 ],
 "metadata": {
  "kernelspec": {
   "display_name": "Python 3 (ipykernel)",
   "language": "python",
   "name": "python3"
  },
  "language_info": {
   "codemirror_mode": {
    "name": "ipython",
    "version": 3
   },
   "file_extension": ".py",
   "mimetype": "text/x-python",
   "name": "python",
   "nbconvert_exporter": "python",
   "pygments_lexer": "ipython3",
   "version": "3.8.10"
  },
  "toc": {
   "nav_menu": {},
   "number_sections": true,
   "sideBar": true,
   "skip_h1_title": false,
   "title_cell": "Table of Contents",
   "title_sidebar": "Contents",
   "toc_cell": false,
   "toc_position": {},
   "toc_section_display": true,
   "toc_window_display": false
  }
 },
 "nbformat": 4,
 "nbformat_minor": 2
}
